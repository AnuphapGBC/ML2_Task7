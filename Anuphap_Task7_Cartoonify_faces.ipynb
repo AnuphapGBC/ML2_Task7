{
 "cells": [
  {
   "cell_type": "markdown",
   "metadata": {},
   "source": [
    "# Task 7 - Cartoonify faces\n",
    "\n",
    "Instructions\n",
    "This task tests your ability to apply Video processing and Face detection techniques to place a cartoon mask instead of your face in the video.\n",
    "\n",
    "\n",
    "\n",
    "Please take the help of the attached notebook which contains the helper code to detect faces from webcam video."
   ]
  },
  {
   "cell_type": "code",
   "execution_count": 174,
   "metadata": {},
   "outputs": [],
   "source": [
    "import cv2\n",
    "import os"
   ]
  },
  {
   "cell_type": "code",
   "execution_count": 175,
   "metadata": {},
   "outputs": [],
   "source": [
    "cascPatheyes = os.path.dirname(\n",
    "    cv2.__file__) + \"/data/haarcascade_eye_tree_eyeglasses.xml\""
   ]
  },
  {
   "cell_type": "code",
   "execution_count": 176,
   "metadata": {},
   "outputs": [],
   "source": [
    "cascPathface = os.path.dirname(cv2.__file__) + \"/data/haarcascade_frontalface_alt2.xml\"\n",
    "faceCascade = cv2.CascadeClassifier(cascPathface)\n"
   ]
  },
  {
   "cell_type": "code",
   "execution_count": 177,
   "metadata": {},
   "outputs": [],
   "source": [
    "video_capture = cv2.VideoCapture(0)"
   ]
  },
  {
   "cell_type": "code",
   "execution_count": 178,
   "metadata": {},
   "outputs": [],
   "source": [
    "while True:\n",
    "    ret, frame = video_capture.read()\n",
    "    cv2.imshow('Face Video', frame)\n",
    "    \n",
    "    if cv2.waitKey(1) & 0xFF == 27:\n",
    "        break\n"
   ]
  },
  {
   "cell_type": "code",
   "execution_count": 179,
   "metadata": {},
   "outputs": [],
   "source": [
    "#Cartoon Mask\n",
    "mask_image = cv2.imread('/Users/bng-anuphap_c/Desktop/ML2_Assignment/Task7/sleep.png',cv2.IMREAD_UNCHANGED)"
   ]
  },
  {
   "cell_type": "code",
   "execution_count": 180,
   "metadata": {},
   "outputs": [],
   "source": [
    "#Replace my face with cartoon mask\n",
    "while True:\n",
    "    ret, frame = video_capture.read()\n",
    "\n",
    "    if not ret:\n",
    "        break\n",
    "\n",
    "    gray = cv2.cvtColor(frame, cv2.COLOR_BGR2GRAY)\n",
    "\n",
    "    faces = faceCascade.detectMultiScale(gray, scaleFactor=1.1, minNeighbors=5, minSize=(30, 30))\n",
    "\n",
    "    for (x, y, w, h) in faces:\n",
    "\n",
    "        resized_mask = cv2.resize(mask_image, (w, h))\n",
    "\n",
    "        resized_mask = cv2.cvtColor(resized_mask, cv2.COLOR_BGRA2BGR)        \n",
    "        roi_color = frame[y:y + h, x:x + w]        \n",
    "        frame[y:y + h, x:x + w] = cv2.addWeighted(roi_color, 1.0, resized_mask, 1.0, 0)\n",
    "\n",
    "\n",
    "    # Display the modified frame with cartoon mask\n",
    "    cv2.imshow('Cartoon Face Video', frame)\n",
    "\n",
    "    if cv2.waitKey(1) & 0xFF == 27: #Press esc for quit\n",
    "        break\n",
    "\n",
    "video_capture.release()\n",
    "cv2.destroyAllWindows()"
   ]
  }
 ],
 "metadata": {
  "kernelspec": {
   "display_name": "Python 3",
   "language": "python",
   "name": "python3"
  },
  "language_info": {
   "codemirror_mode": {
    "name": "ipython",
    "version": 3
   },
   "file_extension": ".py",
   "mimetype": "text/x-python",
   "name": "python",
   "nbconvert_exporter": "python",
   "pygments_lexer": "ipython3",
   "version": "3.11.6"
  }
 },
 "nbformat": 4,
 "nbformat_minor": 2
}
